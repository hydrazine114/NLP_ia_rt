{
 "cells": [
  {
   "cell_type": "code",
   "execution_count": 1,
   "id": "4c102167-4e31-46af-8e8b-09b085b69c9f",
   "metadata": {},
   "outputs": [],
   "source": [
    "import numpy as np\n",
    "import pandas as pd\n",
    "import matplotlib.pyplot as plt\n",
    "from xgboost import XGBClassifier\n",
    "import sklearn as sk\n",
    "from sklearn.ensemble import RandomForestClassifier\n",
    "from sklearn.model_selection import train_test_split\n",
    "from sklearn.metrics import f1_score, roc_auc_score, accuracy_score"
   ]
  },
  {
   "cell_type": "markdown",
   "id": "b25ebeff-d0ae-40fa-8033-57beec344976",
   "metadata": {},
   "source": [
    "### We will use meta features for our xgboost"
   ]
  },
  {
   "cell_type": "code",
   "execution_count": 2,
   "id": "e2df54ac-ce1f-4207-8d64-05d6eed1d761",
   "metadata": {},
   "outputs": [],
   "source": [
    "train_data = pd.read_csv('train_data_features.csv')\n",
    "test_data = pd.read_csv('test_data_features.csv')\n",
    "cols2drop = ['Unnamed: 0', 'id', 'owner_id', 'text', 'likes', 'stop_word_count', 'url_count', \n",
    "                           'mean_word_length', 'hashtag_count', 'mention_count', 'text_cleaned', 'target']\n",
    "y = train_data.target\n",
    "X = train_data.drop(columns=cols2drop)\n",
    "y_test = test_data.target\n",
    "X_test = test_data.drop(columns=cols2drop)"
   ]
  },
  {
   "cell_type": "code",
   "execution_count": 3,
   "id": "a343ccdd-feae-479c-a393-ff41f1a18a3b",
   "metadata": {},
   "outputs": [],
   "source": [
    "X_train, X_val, y_train, y_val = train_test_split(X, y, train_size=0.9, \n",
    "                                                    stratify=y, shuffle=True, random_state=42)"
   ]
  },
  {
   "cell_type": "code",
   "execution_count": 4,
   "id": "088ef3e4-5bb4-4209-9125-dd230f83486f",
   "metadata": {},
   "outputs": [
    {
     "name": "stdout",
     "output_type": "stream",
     "text": [
      "accuracy: 0.968, f1 score: 0.969, roc_auc: 0.996\n"
     ]
    }
   ],
   "source": [
    "params = {'n_estimators': 1024,\n",
    "          'max_depth': 3,\n",
    "          'learning_rate': 0.1,\n",
    "          'subsample': 0.96,\n",
    "          'colsample_bytree': 0.80,\n",
    "          'reg_lambda': 1,\n",
    "          'reg_alpha': 1,\n",
    "          'gamma': 1.4,\n",
    "          'random_state': 16,\n",
    "          'objective': 'binary:logistic',\n",
    "          'tree_method': 'gpu_hist'}\n",
    "\n",
    "model = XGBClassifier(**params)\n",
    "model.fit(X_train, y_train)\n",
    "y_pred = model.predict(X_val)\n",
    "y_pred_proba = model.predict_proba(X_val)[:, 1]\n",
    "\n",
    "print('accuracy: {:.3f}, f1 score: {:.3f}, roc_auc: {:.3f}'.format(accuracy_score(y_val, y_pred), f1_score(y_val, y_pred), roc_auc_score(y_val, y_pred_proba)))"
   ]
  },
  {
   "cell_type": "code",
   "execution_count": 5,
   "id": "68142fb6-461b-4632-8dff-6fbd19ba7cb9",
   "metadata": {},
   "outputs": [
    {
     "name": "stdout",
     "output_type": "stream",
     "text": [
      "accuracy: 0.965, f1_score: 0.965, roc_auc_score: 0.994\n"
     ]
    }
   ],
   "source": [
    "y_pred = model.predict(X_test)\n",
    "y_pred_proba = model.predict_proba(X_test)[:, 1]\n",
    "print('accuracy: {:.3f}, f1_score: {:.3f}, roc_auc_score: {:.3f}'.format(accuracy_score(y_test, y_pred), f1_score(y_test, y_pred), roc_auc_score(y_test, y_pred_proba)))"
   ]
  },
  {
   "cell_type": "markdown",
   "id": "52879f3a-9d77-4cf3-a514-0f4f2e8890a5",
   "metadata": {},
   "source": [
    "### Nice improvement! from accuracy: 0.899, f1_score: 0.897, roc_auc_score: 0.916"
   ]
  }
 ],
 "metadata": {
  "kernelspec": {
   "display_name": "Python 3 (ipykernel)",
   "language": "python",
   "name": "python3"
  },
  "language_info": {
   "codemirror_mode": {
    "name": "ipython",
    "version": 3
   },
   "file_extension": ".py",
   "mimetype": "text/x-python",
   "name": "python",
   "nbconvert_exporter": "python",
   "pygments_lexer": "ipython3",
   "version": "3.8.13"
  }
 },
 "nbformat": 4,
 "nbformat_minor": 5
}
