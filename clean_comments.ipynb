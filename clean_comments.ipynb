{
 "cells": [
  {
   "cell_type": "code",
   "execution_count": 1,
   "id": "ba1d387f-4429-4921-8c3f-230e948d511b",
   "metadata": {},
   "outputs": [],
   "source": [
    "import pandas as pd\n",
    "import spacy\n",
    "from spacy.lang.ru.examples import sentences \n",
    "from nltk.stem.snowball import SnowballStemmer\n",
    "nlp = spacy.load(\"ru_core_news_sm\")\n",
    "import re"
   ]
  },
  {
   "cell_type": "code",
   "execution_count": 2,
   "id": "9c32945a-452f-4a98-aaf3-971fd7a95f46",
   "metadata": {},
   "outputs": [],
   "source": [
    "comments = pd.read_csv('comments.csv')[:5000]\n",
    "comments['text'] = comments.text.astype(str)\n",
    "comments['text'] = comments.text.apply(lambda x: ' '.join(x.split()[:64]))"
   ]
  },
  {
   "cell_type": "markdown",
   "id": "89965e5f-344e-4935-a452-15e887968d36",
   "metadata": {},
   "source": [
    "### comments are very dirty so we clean them for rfidf use lemmatization and stamming"
   ]
  },
  {
   "cell_type": "code",
   "execution_count": 3,
   "id": "b631ebd7-7fed-446d-9c47-9bc5c3d67872",
   "metadata": {},
   "outputs": [],
   "source": [
    "def clean_comment(text):\n",
    "    regex = re.compile('[^а-яА-Я]')\n",
    "    text = ' '.join([i for i in regex.sub(' ', text.lower()).split()])\n",
    "    doc = nlp(text)\n",
    "    text = ' '.join([token.lemma_ for token in doc])\n",
    "    return text\n",
    "comments['text_lemm'] = comments.text.apply(lambda text: clean_comment(text))"
   ]
  },
  {
   "cell_type": "code",
   "execution_count": 4,
   "id": "f393bd99-768d-454b-a0fc-dc735fb1a3fd",
   "metadata": {},
   "outputs": [],
   "source": [
    "def clean_comment(text):\n",
    "    regex = re.compile('[^а-яА-Я]')\n",
    "    stemmer = SnowballStemmer(\"russian\")\n",
    "    text = ' '.join([stemmer.stem(i) for i in regex.sub(' ', text.lower()).split()])\n",
    "    return text\n",
    "comments['text_stem'] = comments.text.apply(lambda text: clean_comment(text))"
   ]
  },
  {
   "cell_type": "code",
   "execution_count": 5,
   "id": "e479bfb1-efe5-4f65-9ace-5644c092b084",
   "metadata": {},
   "outputs": [
    {
     "data": {
      "text/html": [
       "<div>\n",
       "<style scoped>\n",
       "    .dataframe tbody tr th:only-of-type {\n",
       "        vertical-align: middle;\n",
       "    }\n",
       "\n",
       "    .dataframe tbody tr th {\n",
       "        vertical-align: top;\n",
       "    }\n",
       "\n",
       "    .dataframe thead th {\n",
       "        text-align: right;\n",
       "    }\n",
       "</style>\n",
       "<table border=\"1\" class=\"dataframe\">\n",
       "  <thead>\n",
       "    <tr style=\"text-align: right;\">\n",
       "      <th></th>\n",
       "      <th>text</th>\n",
       "      <th>likes</th>\n",
       "      <th>text_lemm</th>\n",
       "      <th>text_stem</th>\n",
       "    </tr>\n",
       "  </thead>\n",
       "  <tbody>\n",
       "    <tr>\n",
       "      <th>0</th>\n",
       "      <td>А сейчас, свежая рубрика: \"Коронановости\"</td>\n",
       "      <td>8.0</td>\n",
       "      <td>а сейчас свежий рубрика коронановости</td>\n",
       "      <td>а сейчас свеж рубрик коронанов</td>\n",
       "    </tr>\n",
       "    <tr>\n",
       "      <th>1</th>\n",
       "      <td>А почему статистика начала рости ? Вакцина пер...</td>\n",
       "      <td>12.0</td>\n",
       "      <td>а почему статистика начать рости вакцина перес...</td>\n",
       "      <td>а поч статистик нача рост вакцин переста помога</td>\n",
       "    </tr>\n",
       "    <tr>\n",
       "      <th>2</th>\n",
       "      <td>И всё не те мрут, кто надо.</td>\n",
       "      <td>6.0</td>\n",
       "      <td>и вс не тот мереть кто надо</td>\n",
       "      <td>и вс не те мрут кто над</td>\n",
       "    </tr>\n",
       "    <tr>\n",
       "      <th>3</th>\n",
       "      <td>Леонида Куравлёва госпитализировали 5 января в...</td>\n",
       "      <td>1.0</td>\n",
       "      <td>леонид куравл ва госпитализировать январь в ви...</td>\n",
       "      <td>леонид куравл ва госпитализирова январ в вирус...</td>\n",
       "    </tr>\n",
       "    <tr>\n",
       "      <th>4</th>\n",
       "      <td>Так это всё смешно, то что в России всё по сце...</td>\n",
       "      <td>37.0</td>\n",
       "      <td>так это вс смешной то что в россия вс по сцена...</td>\n",
       "      <td>так эт вс смешн то что в росс вс по сценар сей...</td>\n",
       "    </tr>\n",
       "  </tbody>\n",
       "</table>\n",
       "</div>"
      ],
      "text/plain": [
       "                                                text  likes  \\\n",
       "0          А сейчас, свежая рубрика: \"Коронановости\"    8.0   \n",
       "1  А почему статистика начала рости ? Вакцина пер...   12.0   \n",
       "2                        И всё не те мрут, кто надо.    6.0   \n",
       "3  Леонида Куравлёва госпитализировали 5 января в...    1.0   \n",
       "4  Так это всё смешно, то что в России всё по сце...   37.0   \n",
       "\n",
       "                                           text_lemm  \\\n",
       "0              а сейчас свежий рубрика коронановости   \n",
       "1  а почему статистика начать рости вакцина перес...   \n",
       "2                        и вс не тот мереть кто надо   \n",
       "3  леонид куравл ва госпитализировать январь в ви...   \n",
       "4  так это вс смешной то что в россия вс по сцена...   \n",
       "\n",
       "                                           text_stem  \n",
       "0                     а сейчас свеж рубрик коронанов  \n",
       "1    а поч статистик нача рост вакцин переста помога  \n",
       "2                            и вс не те мрут кто над  \n",
       "3  леонид куравл ва госпитализирова январ в вирус...  \n",
       "4  так эт вс смешн то что в росс вс по сценар сей...  "
      ]
     },
     "execution_count": 5,
     "metadata": {},
     "output_type": "execute_result"
    }
   ],
   "source": [
    "comments.head()"
   ]
  },
  {
   "cell_type": "code",
   "execution_count": 6,
   "id": "4015e5ff-8ff0-4e20-a1a4-d7ecc6565dfe",
   "metadata": {},
   "outputs": [
    {
     "data": {
      "text/html": [
       "<div>\n",
       "<style scoped>\n",
       "    .dataframe tbody tr th:only-of-type {\n",
       "        vertical-align: middle;\n",
       "    }\n",
       "\n",
       "    .dataframe tbody tr th {\n",
       "        vertical-align: top;\n",
       "    }\n",
       "\n",
       "    .dataframe thead th {\n",
       "        text-align: right;\n",
       "    }\n",
       "</style>\n",
       "<table border=\"1\" class=\"dataframe\">\n",
       "  <thead>\n",
       "    <tr style=\"text-align: right;\">\n",
       "      <th></th>\n",
       "      <th>text</th>\n",
       "      <th>likes</th>\n",
       "      <th>text_lemm</th>\n",
       "      <th>text_stem</th>\n",
       "    </tr>\n",
       "  </thead>\n",
       "  <tbody>\n",
       "    <tr>\n",
       "      <th>0</th>\n",
       "      <td>А сейчас, свежая рубрика: \"Коронановости\"</td>\n",
       "      <td>8.0</td>\n",
       "      <td>а сейчас свежий рубрика коронановости</td>\n",
       "      <td>а сейчас свеж рубрик коронанов</td>\n",
       "    </tr>\n",
       "    <tr>\n",
       "      <th>1</th>\n",
       "      <td>А почему статистика начала рости ? Вакцина пер...</td>\n",
       "      <td>12.0</td>\n",
       "      <td>а почему статистика начать рости вакцина перес...</td>\n",
       "      <td>а поч статистик нача рост вакцин переста помога</td>\n",
       "    </tr>\n",
       "    <tr>\n",
       "      <th>2</th>\n",
       "      <td>И всё не те мрут, кто надо.</td>\n",
       "      <td>6.0</td>\n",
       "      <td>и вс не тот мереть кто надо</td>\n",
       "      <td>и вс не те мрут кто над</td>\n",
       "    </tr>\n",
       "    <tr>\n",
       "      <th>3</th>\n",
       "      <td>Леонида Куравлёва госпитализировали 5 января в...</td>\n",
       "      <td>1.0</td>\n",
       "      <td>леонид куравл ва госпитализировать январь в ви...</td>\n",
       "      <td>леонид куравл ва госпитализирова январ в вирус...</td>\n",
       "    </tr>\n",
       "    <tr>\n",
       "      <th>4</th>\n",
       "      <td>Так это всё смешно, то что в России всё по сце...</td>\n",
       "      <td>37.0</td>\n",
       "      <td>так это вс смешной то что в россия вс по сцена...</td>\n",
       "      <td>так эт вс смешн то что в росс вс по сценар сей...</td>\n",
       "    </tr>\n",
       "    <tr>\n",
       "      <th>...</th>\n",
       "      <td>...</td>\n",
       "      <td>...</td>\n",
       "      <td>...</td>\n",
       "      <td>...</td>\n",
       "    </tr>\n",
       "    <tr>\n",
       "      <th>2</th>\n",
       "      <td>Ах вот как это называется… 🗿</td>\n",
       "      <td>13.0</td>\n",
       "      <td>ах вот как это называться</td>\n",
       "      <td>ах вот как эт называ</td>\n",
       "    </tr>\n",
       "    <tr>\n",
       "      <th>3</th>\n",
       "      <td>Кто нанял послелователя Оурелла? Пять</td>\n",
       "      <td>195.0</td>\n",
       "      <td>кто нанять послелователя оурелла пять</td>\n",
       "      <td>кто наня послеловател оурелл пят</td>\n",
       "    </tr>\n",
       "    <tr>\n",
       "      <th>5</th>\n",
       "      <td>И в чем он не прав?</td>\n",
       "      <td>6.0</td>\n",
       "      <td>и в что он не правый</td>\n",
       "      <td>и в чем он не прав</td>\n",
       "    </tr>\n",
       "    <tr>\n",
       "      <th>6</th>\n",
       "      <td>Интересно, когда его начнут в школах преподавать</td>\n",
       "      <td>3.0</td>\n",
       "      <td>интересный когда его начать в школа преподавать</td>\n",
       "      <td>интересн когд ег начнут в школ преподава</td>\n",
       "    </tr>\n",
       "    <tr>\n",
       "      <th>7</th>\n",
       "      <td>То есть многие поддерживают операцию, но сами ...</td>\n",
       "      <td>2120.0</td>\n",
       "      <td>то быть многие поддерживать операция но сами п...</td>\n",
       "      <td>то ест мног поддержива операц но сам понят не ...</td>\n",
       "    </tr>\n",
       "  </tbody>\n",
       "</table>\n",
       "<p>4866 rows × 4 columns</p>\n",
       "</div>"
      ],
      "text/plain": [
       "                                                 text   likes  \\\n",
       "0           А сейчас, свежая рубрика: \"Коронановости\"     8.0   \n",
       "1   А почему статистика начала рости ? Вакцина пер...    12.0   \n",
       "2                         И всё не те мрут, кто надо.     6.0   \n",
       "3   Леонида Куравлёва госпитализировали 5 января в...     1.0   \n",
       "4   Так это всё смешно, то что в России всё по сце...    37.0   \n",
       "..                                                ...     ...   \n",
       "2                        Ах вот как это называется… 🗿    13.0   \n",
       "3               Кто нанял послелователя Оурелла? Пять   195.0   \n",
       "5                                 И в чем он не прав?     6.0   \n",
       "6    Интересно, когда его начнут в школах преподавать     3.0   \n",
       "7   То есть многие поддерживают операцию, но сами ...  2120.0   \n",
       "\n",
       "                                            text_lemm  \\\n",
       "0               а сейчас свежий рубрика коронановости   \n",
       "1   а почему статистика начать рости вакцина перес...   \n",
       "2                         и вс не тот мереть кто надо   \n",
       "3   леонид куравл ва госпитализировать январь в ви...   \n",
       "4   так это вс смешной то что в россия вс по сцена...   \n",
       "..                                                ...   \n",
       "2                           ах вот как это называться   \n",
       "3               кто нанять послелователя оурелла пять   \n",
       "5                                и в что он не правый   \n",
       "6     интересный когда его начать в школа преподавать   \n",
       "7   то быть многие поддерживать операция но сами п...   \n",
       "\n",
       "                                            text_stem  \n",
       "0                      а сейчас свеж рубрик коронанов  \n",
       "1     а поч статистик нача рост вакцин переста помога  \n",
       "2                             и вс не те мрут кто над  \n",
       "3   леонид куравл ва госпитализирова январ в вирус...  \n",
       "4   так эт вс смешн то что в росс вс по сценар сей...  \n",
       "..                                                ...  \n",
       "2                                ах вот как эт называ  \n",
       "3                    кто наня послеловател оурелл пят  \n",
       "5                                  и в чем он не прав  \n",
       "6            интересн когд ег начнут в школ преподава  \n",
       "7   то ест мног поддержива операц но сам понят не ...  \n",
       "\n",
       "[4866 rows x 4 columns]"
      ]
     },
     "execution_count": 6,
     "metadata": {},
     "output_type": "execute_result"
    }
   ],
   "source": [
    "comments = comments[(comments.text_stem != '') & (comments.text_lemm.notna())]\n",
    "comments"
   ]
  },
  {
   "cell_type": "markdown",
   "id": "d22c2959-55a4-4561-ae5b-dd1ea2afe9be",
   "metadata": {},
   "source": [
    "### reduse number of words in vocabulary"
   ]
  },
  {
   "cell_type": "code",
   "execution_count": 7,
   "id": "555bd573-2da9-4a66-ad20-26bd730cc53a",
   "metadata": {},
   "outputs": [
    {
     "name": "stdout",
     "output_type": "stream",
     "text": [
      "before: 10665\n",
      "after: 3404\n"
     ]
    }
   ],
   "source": [
    "from collections import Counter\n",
    "import numpy as np\n",
    "vocab = Counter(np.sum(comments.text_stem.apply(lambda x: x + ' ').values).split())\n",
    "print('before:', len(vocab))\n",
    "\n",
    "comments['text_stem'] = comments.text_stem.apply(lambda x: ' '.join([i if vocab[i] > 2 else '[UNK]' for i in x.split()]))\n",
    "\n",
    "vocab = Counter(np.sum(comments.text_stem.apply(lambda x: x + ' ').values).split())\n",
    "print('after:', len(vocab))"
   ]
  },
  {
   "cell_type": "code",
   "execution_count": 8,
   "id": "d3ef7646-46ed-4440-b664-28a4f0b705d4",
   "metadata": {},
   "outputs": [
    {
     "name": "stdout",
     "output_type": "stream",
     "text": [
      "12211\n",
      "3361\n"
     ]
    }
   ],
   "source": [
    "vocab = Counter(np.sum(comments.text_lemm.apply(lambda x: x + ' ').values).split())\n",
    "print(len(vocab))\n",
    "\n",
    "comments['text_lemm'] = comments.text_lemm.apply(lambda x: ' '.join([i if vocab[i] > 2 else '[UNK]' for i in x.split()]))\n",
    "\n",
    "vocab = Counter(np.sum(comments.text_lemm.apply(lambda x: x + ' ').values).split())\n",
    "print(len(vocab))"
   ]
  },
  {
   "cell_type": "code",
   "execution_count": 9,
   "id": "37916ff6-d299-4e97-b15d-1dfb4eb78edc",
   "metadata": {},
   "outputs": [],
   "source": [
    "comments.to_csv('comments_lemm_stemm.csv', index_label=False)"
   ]
  }
 ],
 "metadata": {
  "kernelspec": {
   "display_name": "Python 3 (ipykernel)",
   "language": "python",
   "name": "python3"
  },
  "language_info": {
   "codemirror_mode": {
    "name": "ipython",
    "version": 3
   },
   "file_extension": ".py",
   "mimetype": "text/x-python",
   "name": "python",
   "nbconvert_exporter": "python",
   "pygments_lexer": "ipython3",
   "version": "3.8.13"
  }
 },
 "nbformat": 4,
 "nbformat_minor": 5
}
