{
 "cells": [
  {
   "cell_type": "code",
   "execution_count": 1,
   "id": "4829b744-8053-4348-9016-645b7f9f1195",
   "metadata": {},
   "outputs": [],
   "source": [
    "import os\n",
    "import shutil\n",
    "\n",
    "import tensorflow as tf\n",
    "import tensorflow_hub as hub\n",
    "import tensorflow_text as text\n",
    "import pandas as pd\n",
    "import matplotlib.pyplot as plt\n",
    "\n",
    "from sklearn.metrics import f1_score, roc_auc_score, accuracy_score\n",
    "\n",
    "tf.get_logger().setLevel('ERROR')\n",
    "from sklearn.model_selection import train_test_split\n",
    "ia_data = pd.read_csv('ia_prep.csv')\n",
    "rt_data = pd.read_csv('rt_prep.csv')\n",
    "\n",
    "ia_data['target'] = [1]*ia_data.shape[0]\n",
    "rt_data['target'] = [0]*rt_data.shape[0]\n",
    "\n",
    "train_data = pd.concat([rt_data[500:], ia_data[500:]])\n",
    "test_data = pd.concat([rt_data[:500], ia_data[:500]])"
   ]
  },
  {
   "cell_type": "code",
   "execution_count": 2,
   "id": "781ac598-f650-4007-9be5-6ff67f0f05fe",
   "metadata": {},
   "outputs": [],
   "source": [
    "def build_classifier_model():\n",
    "    text_input = tf.keras.layers.Input(shape=(), dtype=tf.string)\n",
    "    preprocessor = hub.KerasLayer(\"https://tfhub.dev/jeongukjae/xlm_roberta_multi_cased_preprocess/1\")\n",
    "    encoder_inputs = preprocessor(text_input)\n",
    "\n",
    "    encoder = hub.KerasLayer(\"https://tfhub.dev/jeongukjae/xlm_roberta_multi_cased_L-12_H-768_A-12/1\", trainable=True)\n",
    "    encoder_outputs = encoder(encoder_inputs)\n",
    "    net = encoder_outputs[\"pooled_output\"]      # [batch_size, 768].\n",
    "    net = tf.keras.layers.Dropout(0.1)(net)\n",
    "    net = tf.keras.layers.Dense(1, activation=None, name='classifier')(net)\n",
    "    return tf.keras.Model(text_input, net)\n",
    "model = build_classifier_model()"
   ]
  },
  {
   "cell_type": "code",
   "execution_count": 3,
   "id": "9f78c248-18be-4770-a26e-bbbf9f8b0396",
   "metadata": {},
   "outputs": [
    {
     "data": {
      "text/plain": [
       "<tensorflow.python.training.tracking.util.CheckpointLoadStatus at 0x2c465022110>"
      ]
     },
     "execution_count": 3,
     "metadata": {},
     "output_type": "execute_result"
    }
   ],
   "source": [
    "model.load_weights('models/bert3/cp-0010.ckpt')"
   ]
  },
  {
   "cell_type": "code",
   "execution_count": 4,
   "id": "6d3f04a4-f68e-4029-bca3-5c6282cfc9f8",
   "metadata": {},
   "outputs": [
    {
     "name": "stdout",
     "output_type": "stream",
     "text": [
      "accuracy: 0.899, f1_score: 0.897, roc_auc_score: 0.916\n"
     ]
    }
   ],
   "source": [
    "y_pred = model.predict(test_data.text_cleaned.values, batch_size=16)\n",
    "\n",
    "import numpy as np\n",
    "def sigmoid(x):\n",
    "    sig = 1 / (1 + np.exp(-x))\n",
    "    return sig\n",
    "\n",
    "y_pred_proba = sigmoid(y_pred)\n",
    "y_test = test_data.target.values\n",
    "y_pred_class = (y_pred > 0) * 1\n",
    "\n",
    "print('accuracy: {:.3f}, f1_score: {:.3f}, roc_auc_score: {:.3f}'.format(accuracy_score(y_test, y_pred_class), f1_score(y_test, y_pred_class), roc_auc_score(y_test, y_pred_proba)))"
   ]
  },
  {
   "cell_type": "code",
   "execution_count": 5,
   "id": "7a95bb17-397e-400f-860c-b8267ec6f87a",
   "metadata": {},
   "outputs": [
    {
     "name": "stdout",
     "output_type": "stream",
     "text": [
      "Model: \"model\"\n",
      "__________________________________________________________________________________________________\n",
      " Layer (type)                   Output Shape         Param #     Connected to                     \n",
      "==================================================================================================\n",
      " input_1 (InputLayer)           [(None,)]            0           []                               \n",
      "                                                                                                  \n",
      " keras_layer (KerasLayer)       {'input_mask': (Non  0           ['input_1[0][0]']                \n",
      "                                e, 128),                                                          \n",
      "                                 'input_word_ids':                                                \n",
      "                                (None, 128),                                                      \n",
      "                                 'input_type_ids':                                                \n",
      "                                (None, 128)}                                                      \n",
      "                                                                                                  \n",
      " keras_layer_1 (KerasLayer)     {'pooled_output': (  278042112   ['keras_layer[0][0]',            \n",
      "                                None, 768),                       'keras_layer[0][1]',            \n",
      "                                 'sequence_output':               'keras_layer[0][2]']            \n",
      "                                 (None, 128, 768),                                                \n",
      "                                 'encoder_outputs':                                               \n",
      "                                 [(None, 128, 768),                                               \n",
      "                                 (None, 128, 768),                                                \n",
      "                                 (None, 128, 768),                                                \n",
      "                                 (None, 128, 768),                                                \n",
      "                                 (None, 128, 768),                                                \n",
      "                                 (None, 128, 768),                                                \n",
      "                                 (None, 128, 768),                                                \n",
      "                                 (None, 128, 768),                                                \n",
      "                                 (None, 128, 768),                                                \n",
      "                                 (None, 128, 768),                                                \n",
      "                                 (None, 128, 768),                                                \n",
      "                                 (None, 128, 768)]}                                               \n",
      "                                                                                                  \n",
      " dropout (Dropout)              (None, 768)          0           ['keras_layer_1[0][12]']         \n",
      "                                                                                                  \n",
      " classifier (Dense)             (None, 1)            769         ['dropout[0][0]']                \n",
      "                                                                                                  \n",
      "==================================================================================================\n",
      "Total params: 278,042,881\n",
      "Trainable params: 278,042,881\n",
      "Non-trainable params: 0\n",
      "__________________________________________________________________________________________________\n"
     ]
    }
   ],
   "source": [
    "model.summary()"
   ]
  },
  {
   "cell_type": "code",
   "execution_count": 6,
   "id": "74d75ead-aaf9-412a-a430-b7ef80a002d7",
   "metadata": {},
   "outputs": [
    {
     "data": {
      "text/plain": [
       "[<keras.engine.input_layer.InputLayer at 0x2c40e8cf790>,\n",
       " <tensorflow_hub.keras_layer.KerasLayer at 0x2c40ece5390>,\n",
       " <tensorflow_hub.keras_layer.KerasLayer at 0x2c40f282500>,\n",
       " <keras.layers.core.dropout.Dropout at 0x2c649016230>,\n",
       " <keras.layers.core.dense.Dense at 0x2c6492e3f40>]"
      ]
     },
     "execution_count": 6,
     "metadata": {},
     "output_type": "execute_result"
    }
   ],
   "source": [
    "model.layers"
   ]
  },
  {
   "cell_type": "code",
   "execution_count": 7,
   "id": "4ec6b461-3416-433a-a227-4019aabeb3a1",
   "metadata": {},
   "outputs": [],
   "source": [
    "new_model = tf.keras.Model(model.input, model.layers[4].input)"
   ]
  },
  {
   "cell_type": "code",
   "execution_count": 8,
   "id": "cf29b147-911f-49a7-afc2-bed734cd3275",
   "metadata": {},
   "outputs": [
    {
     "name": "stdout",
     "output_type": "stream",
     "text": [
      "CPU times: total: 2min 55s\n",
      "Wall time: 2min 11s\n"
     ]
    }
   ],
   "source": [
    "%%time\n",
    "train_data_features = new_model.predict(train_data.text_cleaned.values, batch_size=16)\n",
    "test_data_features = new_model.predict(test_data.text_cleaned.values, batch_size=16)"
   ]
  },
  {
   "cell_type": "code",
   "execution_count": 9,
   "id": "6eed77e3-50d7-4397-86c3-8a351cf42a7a",
   "metadata": {},
   "outputs": [
    {
     "data": {
      "text/plain": [
       "((8613, 768), (1000, 768))"
      ]
     },
     "execution_count": 9,
     "metadata": {},
     "output_type": "execute_result"
    }
   ],
   "source": [
    "train_data_features.shape, test_data_features.shape"
   ]
  },
  {
   "cell_type": "code",
   "execution_count": 10,
   "id": "ba45f3f9-58e3-4b77-b4cd-fceec0da5f61",
   "metadata": {},
   "outputs": [],
   "source": [
    "pd.concat([train_data.reset_index(), pd.DataFrame(train_data_features)], axis=1).drop(columns=['index', 'Unnamed: 0']).to_csv('train_data_features.csv')\n",
    "pd.concat([test_data.reset_index(), pd.DataFrame(test_data_features)], axis=1).drop(columns=['index', 'Unnamed: 0']).to_csv('test_data_features.csv')"
   ]
  }
 ],
 "metadata": {
  "kernelspec": {
   "display_name": "Python 3 (ipykernel)",
   "language": "python",
   "name": "python3"
  },
  "language_info": {
   "codemirror_mode": {
    "name": "ipython",
    "version": 3
   },
   "file_extension": ".py",
   "mimetype": "text/x-python",
   "name": "python",
   "nbconvert_exporter": "python",
   "pygments_lexer": "ipython3",
   "version": "3.10.4"
  }
 },
 "nbformat": 4,
 "nbformat_minor": 5
}
